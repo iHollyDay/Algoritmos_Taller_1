{
 "cells": [
  {
   "cell_type": "code",
   "execution_count": 1,
   "metadata": {
    "collapsed": true
   },
   "outputs": [],
   "source": [
    "import random\n",
    "import statistics\n",
    "import time\n",
    "import matplotlib.pyplot as plt\n",
    "%matplotlib inline"
   ]
  },
  {
   "cell_type": "code",
   "execution_count": 2,
   "metadata": {},
   "outputs": [],
   "source": [
    "def randomquicksort(alist,times):\n",
    "    comp = [0]\n",
    "    randomquicksorthelper(alist,0,len(alist)-1,comp)\n",
    "    times.append(comp[0])"
   ]
  },
  {
   "cell_type": "code",
   "execution_count": 3,
   "metadata": {},
   "outputs": [],
   "source": [
    "def randomquicksorthelper(alist,first,last,comp):\n",
    "    if first<last:\n",
    "        r = randompartition(alist,first,last)\n",
    "        splitpoint = r[0]\n",
    "        tmp = comp.pop()\n",
    "        comp.append(tmp+r[1])\n",
    "    \n",
    "        randomquicksorthelper(alist,first,splitpoint-1,comp)\n",
    "        randomquicksorthelper(alist,splitpoint+1,last,comp)"
   ]
  },
  {
   "cell_type": "code",
   "execution_count": 4,
   "metadata": {},
   "outputs": [],
   "source": [
    "def randompartition(alist,first,last):\n",
    "  \n",
    "   indxpiv = random.randint(first,last)\n",
    "   temp = alist[indxpiv]\n",
    "   alist[indxpiv] = alist[first]\n",
    "   alist[first] = temp\n",
    "   \n",
    "   pivotvalue = alist[first]\n",
    "   compspart = 0\n",
    "\n",
    "   leftmark = first+1\n",
    "   rightmark = last\n",
    "\n",
    "   done = False\n",
    "   while not done:\n",
    "\n",
    "       while leftmark <= rightmark and alist[leftmark] <= pivotvalue:\n",
    "           leftmark = leftmark + 1\n",
    "           compspart = compspart + 1\n",
    "       compspart = compspart + 1\n",
    "\n",
    "       while alist[rightmark] >= pivotvalue and rightmark >= leftmark:\n",
    "           rightmark = rightmark -1\n",
    "           compspart = compspart + 1\n",
    "       compspart = compspart + 1\n",
    "\n",
    "       if rightmark < leftmark:\n",
    "           done = True\n",
    "       else:\n",
    "           temp = alist[leftmark]\n",
    "           alist[leftmark] = alist[rightmark]\n",
    "           alist[rightmark] = temp\n",
    "\n",
    "   temp = alist[first]\n",
    "   alist[first] = alist[rightmark]\n",
    "   alist[rightmark] = temp\n",
    "\n",
    "\n",
    "   return rightmark,compspart"
   ]
  },
  {
   "cell_type": "code",
   "execution_count": 5,
   "metadata": {},
   "outputs": [],
   "source": [
    "def randomquicksorttimedistrib(s):\n",
    "    star = time.time()\n",
    "    \n",
    "    # Create an array of 1 .. n  \n",
    "    n=s\n",
    "    runs=0\n",
    "    x = []\n",
    "    for i in range(1,n+1):\n",
    "        x.append(n+1-i)\n",
    "    \n",
    "     # Run quicksort for each permutation\n",
    "    tlist =[]\n",
    "    fin = time.time()\n",
    "    while int(fin - star) < 1800:\n",
    "          runs += 1\n",
    "          y = list(x)\n",
    "          randomquicksort(y,tlist)\n",
    "          fin = time.time()\n",
    "        \n",
    "    plt.hist(tlist)\n",
    "    plt.title(\"Number of comparison of Quicksort for all permutaions\")\n",
    "    plt.xlabel(\"Comparisons of elements\")\n",
    "    plt.ylabel(\"Frequency\")\n",
    "    plt.show()\n",
    "    \n",
    "    print(\"n\",n)\n",
    "    print(\"runs\",runs)\n",
    "    print(\"mean\",statistics.mean(tlist))\n",
    "    print(\"stdev\",statistics.stdev(tlist))\n",
    "    print(\"min\",min(tlist))\n",
    "    print(\"max\",max(tlist))"
   ]
  },
  {
   "cell_type": "code",
   "execution_count": 6,
   "metadata": {},
   "outputs": [
    {
     "data": {
      "image/png": "[encoded data removed]",
      "text/plain": [
       "<Figure size 432x288 with 1 Axes>"
      ]
     },
     "metadata": {},
     "output_type": "display_data"
    },
    {
     "name": "stdout",
     "output_type": "stream",
     "text": [
      "n 16\nruns 56318949\n"
     ]
    },
    {
     "name": "stdout",
     "output_type": "stream",
     "text": [
      "mean 83.66662076737263\n"
     ]
    },
    {
     "name": "stdout",
     "output_type": "stream",
     "text": [
      "stdev 7.093594911236933\nmin 67\n"
     ]
    },
    {
     "name": "stdout",
     "output_type": "stream",
     "text": [
      "max 144\n"
     ]
    }
   ],
   "source": [
    "randomquicksorttimedistrib(16)"
   ]
  },
  {
   "cell_type": "code",
   "execution_count": 16,
   "metadata": {},
   "outputs": [
    {
     "name": "stdout",
     "output_type": "stream",
     "text": [
      "como el numero de ejecuciones en 30 minutos es 56318949 podemos decir que en 5 horas es 56318949*10\n"
     ]
    }
   ],
   "source": [
    "print(\"como el numero de ejecuciones en 30 minutos es \" + \"56318949\" + \" podemos decir que en 5 horas es \" + \"56318949*10\")"
   ]
  },
  {
   "cell_type": "code",
   "execution_count": 17,
   "metadata": {},
   "outputs": [
    {
     "name": "stdout",
     "output_type": "stream",
     "text": [
      "563189490\n"
     ]
    }
   ],
   "source": [
    "print(56318949*10)"
   ]
  },
  {
   "cell_type": "code",
   "execution_count": 23,
   "metadata": {},
   "outputs": [],
   "source": [
    "import math"
   ]
  },
  {
   "cell_type": "code",
   "execution_count": 24,
   "metadata": {},
   "outputs": [
    {
     "name": "stdout",
     "output_type": "stream",
     "text": [
      "64.0\n"
     ]
    }
   ],
   "source": [
    "print(16*math.log(16,2.0))"
   ]
  },
  {
   "cell_type": "code",
   "execution_count": 25,
   "metadata": {},
   "outputs": [],
   "source": [
    "print(\"P(x = \" + str((1.5*16*math.log(16,2.0))) +\") = 0.869\")"
   ]
  },
  {
   "cell_type": "code",
   "execution_count": null,
   "metadata": {},
   "outputs": [],
   "source": [
    "print()"
   ]
  }
 ],
 "metadata": {
  "kernelspec": {
   "display_name": "Python 2",
   "language": "python",
   "name": "python2"
  },
  "language_info": {
   "codemirror_mode": {
    "name": "ipython",
    "version": 2
   },
   "file_extension": ".py",
   "mimetype": "text/x-python",
   "name": "python",
   "nbconvert_exporter": "python",
   "pygments_lexer": "ipython2",
   "version": "2.7.6"
  }
 },
 "nbformat": 4,
 "nbformat_minor": 0
}
